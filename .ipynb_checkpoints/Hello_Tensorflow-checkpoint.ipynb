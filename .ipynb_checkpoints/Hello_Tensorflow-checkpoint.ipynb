{
 "cells": [
  {
   "cell_type": "markdown",
   "metadata": {},
   "source": [
    "*Please note: This is a coding challenge I set for myself.*\n",
    "\n",
    "\n",
    "## Coding Challenge:\n",
    "\n",
    "1. Get more practice with jupyter notebook\n",
    "2. Get more practice with git\n",
    "3. Get more practice with python\n",
    "4. Learn how to use Tensorflow\n",
    "\n"
   ]
  },
  {
   "cell_type": "markdown",
   "metadata": {},
   "source": [
    "## Hello TensorFlow"
   ]
  },
  {
   "cell_type": "markdown",
   "metadata": {},
   "source": [
    "* Tensorflow  is an open source Deep Learning library created by Google\n",
    "* TensorFlow’s API is built around the idea of a computational graph"
   ]
  },
  {
   "cell_type": "markdown",
   "metadata": {},
   "source": [
    "## How to install Tensorflow(Windows)"
   ]
  },
  {
   "cell_type": "markdown",
   "metadata": {},
   "source": [
    "conda create -n tensorflow python=3.5\n",
    "\n",
    "activate tensorflow\n",
    "\n",
    "pip install tensorflow"
   ]
  },
  {
   "cell_type": "markdown",
   "metadata": {},
   "source": [
    "## Sanity Check"
   ]
  },
  {
   "cell_type": "code",
   "execution_count": 1,
   "metadata": {},
   "outputs": [
    {
     "name": "stdout",
     "output_type": "stream",
     "text": [
      "b'Hello Tensorflow'\n"
     ]
    }
   ],
   "source": [
    "import tensorflow as tf\n",
    "\n",
    "hello_constant = tf.constant(\"Hello Tensorflow\")\n",
    "\n",
    "# Run the tensorflow session\n",
    "with tf.Session() as sess:\n",
    "    output = sess.run(hello_constant)\n",
    "    print(output)"
   ]
  },
  {
   "cell_type": "markdown",
   "metadata": {},
   "source": [
    "## What is a tensor?"
   ]
  },
  {
   "cell_type": "markdown",
   "metadata": {},
   "source": [
    "* a tensor is a geometric object that describes linear relations between geometric vectors, scalars, and other tensors\n",
    "\n",
    "1.) a scalar is a 0-dim tensor<br>\n",
    "2.) a vector is a 1-dim tensor<br>\n",
    "3.) a matrix is a 2-dim tensor<br>\n",
    "4.) everything with higher dimension is only called tensor<br>\n"
   ]
  },
  {
   "cell_type": "markdown",
   "metadata": {},
   "source": [
    "## What is a Tensorflow Session?"
   ]
  },
  {
   "cell_type": "markdown",
   "metadata": {},
   "source": [
    "* an environment for running the computational graph\n",
    "* a session is in charge of allocating the operations to GPU and/or CPU including remote machines"
   ]
  },
  {
   "cell_type": "markdown",
   "metadata": {},
   "source": [
    "## Basic Tensorflow operations "
   ]
  },
  {
   "cell_type": "markdown",
   "metadata": {},
   "source": [
    "tf.constant():\n",
    "* returns a constant tensor\n",
    "\n",
    "tf.placeholder():\n",
    "* returns a tensor that gets its value from data passed to the tf.session.run() function\n",
    "* placeholder() allows you to set the input right before the session runs\n",
    "* use the feed_dict parameter in tf.session.run() to set the placeholder tensor\n",
    "* feed_dict accepts more than one tensor\n",
    "* placeholder is not a variable so it can't be modified\n",
    "\n",
    "tf.Variable():\n",
    "* creates a tensor with an initial value that can be modified\n",
    "* the variable tensor stores its state in the session\n",
    "* must be manually initialized\n",
    "\n",
    "tf.global_variables_initializer():\n",
    "* function to initialize all with tf.Variable() created tensors\n",
    "\n",
    "tf.truncated_normal():\n",
    "* function to generate random numbers from a normal distribution\n",
    "* magnitude is no more than 2 standard deviations from the mean\n",
    "\n",
    "tf.zeros():\n",
    "* returns a tensor with all zeros\n",
    "\n",
    "Simple Math operations:\n",
    "* tf.add\n",
    "* tf.subtract\n",
    "* tf.multiply\n",
    "* tf.divide\n",
    "\n",
    "Converting types:\n",
    "* tensorflow is sensitive to datatypes and will eventually throw type errors\n",
    "* to avoid type errors use tf.cast()"
   ]
  },
  {
   "cell_type": "markdown",
   "metadata": {},
   "source": [
    "## Hello Tensorflow with placeholder"
   ]
  },
  {
   "cell_type": "code",
   "execution_count": 2,
   "metadata": {},
   "outputs": [
    {
     "name": "stdout",
     "output_type": "stream",
     "text": [
      "Hello Tensorflow\n"
     ]
    }
   ],
   "source": [
    "x = tf.placeholder(tf.string)\n",
    "\n",
    "with tf.Session() as sess:\n",
    "    output = sess.run(x, feed_dict={x: 'Hello Tensorflow'})\n",
    "    print(output)"
   ]
  }
 ],
 "metadata": {
  "kernelspec": {
   "display_name": "Python 3",
   "language": "python",
   "name": "python3"
  },
  "language_info": {
   "codemirror_mode": {
    "name": "ipython",
    "version": 3
   },
   "file_extension": ".py",
   "mimetype": "text/x-python",
   "name": "python",
   "nbconvert_exporter": "python",
   "pygments_lexer": "ipython3",
   "version": "3.6.4"
  },
  "varInspector": {
   "cols": {
    "lenName": 16,
    "lenType": 16,
    "lenVar": 40
   },
   "kernels_config": {
    "python": {
     "delete_cmd_postfix": "",
     "delete_cmd_prefix": "del ",
     "library": "var_list.py",
     "varRefreshCmd": "print(var_dic_list())"
    },
    "r": {
     "delete_cmd_postfix": ") ",
     "delete_cmd_prefix": "rm(",
     "library": "var_list.r",
     "varRefreshCmd": "cat(var_dic_list()) "
    }
   },
   "types_to_exclude": [
    "module",
    "function",
    "builtin_function_or_method",
    "instance",
    "_Feature"
   ],
   "window_display": false
  }
 },
 "nbformat": 4,
 "nbformat_minor": 2
}
